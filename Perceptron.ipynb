{
 "cells": [
  {
   "cell_type": "code",
   "execution_count": 1,
   "id": "7797e074",
   "metadata": {},
   "outputs": [],
   "source": [
    "#= \n",
    "Perceptron Struct\n",
    "    \n",
    "    Contains:\n",
    "        - X1: n-element Input Vector.\n",
    "        - W1: (n+1)-element Weights Vector.\n",
    "        - b1: Bias Integer.\n",
    "        - ŷ: Output Integer.\n",
    "\n",
    "    Note:\n",
    "        Perceptron Struct must be Mutable to allow for variables to be changed after decleration.\n",
    "=#\n",
    "\n",
    "mutable struct Perceptron\n",
    "    X1::Vector{Int64}\n",
    "    W1::Vector{Float16}\n",
    "    b1::Int64\n",
    "    ŷ::Int64\n",
    "    \n",
    "    function Perceptron(number_inputs)\n",
    "        new(zeros(number_inputs) , rand(Float16, number_inputs + 1) , 1 , 0)\n",
    "    end\n",
    "\n",
    "end"
   ]
  },
  {
   "cell_type": "code",
   "execution_count": 2,
   "id": "dbaa769b",
   "metadata": {},
   "outputs": [
    {
     "data": {
      "text/plain": [
       "H (generic function with 1 method)"
      ]
     },
     "execution_count": 2,
     "metadata": {},
     "output_type": "execute_result"
    }
   ],
   "source": [
    "#= \n",
    "Heaviside step function\n",
    "\n",
    "    Parameters:\n",
    "        Some integer 'u'.\n",
    "\n",
    "    Returns:\n",
    "        0 for negative argument 'u'.\n",
    "        1 for positive argument 'u'.\n",
    "=#\n",
    "\n",
    "function H(u)\n",
    "    \n",
    "        if u < 0\n",
    "            return 0\n",
    "        \n",
    "        else\n",
    "            return 1\n",
    "        \n",
    "        end\n",
    "end"
   ]
  },
  {
   "cell_type": "code",
   "execution_count": 3,
   "id": "7efd49a4",
   "metadata": {},
   "outputs": [
    {
     "data": {
      "text/plain": [
       "forward_prop (generic function with 1 method)"
      ]
     },
     "execution_count": 3,
     "metadata": {},
     "output_type": "execute_result"
    }
   ],
   "source": [
    "using LinearAlgebra\n",
    "\n",
    "#= \n",
    "Forward propogation through the Perceptron\n",
    "    \n",
    "    1. Append the bias integer (b1) to the input vector (X1).\n",
    "    2. Take the weighted sum/dot product (Z1) of the input vector (X1) and weights vector (W1).\n",
    "    3. Assign the Heaviside step function of the weighted sum to the Perceptrons' output (ŷ).\n",
    "\n",
    "    Parameters:\n",
    "        Some Perceptron 'p'.\n",
    "\n",
    "    Returns:\n",
    "        Some integer output 'ŷ'.\n",
    "=#\n",
    "\n",
    "function forward_prop(p::Perceptron)\n",
    "    \n",
    "        push!(p.X1, p.b1)\n",
    "    \n",
    "        Z1 = dot(p.X1, p.W1)\n",
    "    \n",
    "        p.ŷ = H(Z1)\n",
    "    \n",
    "    end"
   ]
  },
  {
   "cell_type": "code",
   "execution_count": 4,
   "id": "86781b92",
   "metadata": {},
   "outputs": [
    {
     "data": {
      "text/plain": [
       "output_error (generic function with 1 method)"
      ]
     },
     "execution_count": 4,
     "metadata": {},
     "output_type": "execute_result"
    }
   ],
   "source": [
    "#= \n",
    "Output Error\n",
    "    \n",
    "    Parameters:\n",
    "        Some label/expected output 'y'.\n",
    "        Some Perceptron 'p'.\n",
    "\n",
    "    Returns:\n",
    "        The difference between the expected output 'y' and the calculated Perceptron output 'ŷ'.\n",
    "=#\n",
    "\n",
    "function output_error(y, p::Perceptron)\n",
    "    \n",
    "    return y - p.ŷ\n",
    "    \n",
    "end"
   ]
  },
  {
   "cell_type": "code",
   "execution_count": 5,
   "id": "69a3f579",
   "metadata": {},
   "outputs": [
    {
     "data": {
      "text/plain": [
       "delta_rule (generic function with 1 method)"
      ]
     },
     "execution_count": 5,
     "metadata": {},
     "output_type": "execute_result"
    }
   ],
   "source": [
    "#= \n",
    "Delta rule\n",
    "    \n",
    "    Parameters:\n",
    "        Some learning rate 'α'.\n",
    "        Some error value 'error'.\n",
    "        Some Perceptron 'p'.\n",
    "\n",
    "    Returns:\n",
    "        A vector (ΔW) suggesting the degree in which the weights vector of the Perceptron (W1) should be changed.\n",
    "\n",
    "        Where ΔW = learning Rate(α) X Output Error(error) X Input Vector(X1).\n",
    "=#\n",
    "\n",
    "function delta_rule( α, error, p::Perceptron)\n",
    "    \n",
    "    return α * error * p.X1\n",
    "    \n",
    "end"
   ]
  },
  {
   "cell_type": "code",
   "execution_count": 6,
   "id": "737cf5e7",
   "metadata": {},
   "outputs": [
    {
     "data": {
      "text/plain": [
       "update_weights (generic function with 1 method)"
      ]
     },
     "execution_count": 6,
     "metadata": {},
     "output_type": "execute_result"
    }
   ],
   "source": [
    "#= \n",
    "Update Weights\n",
    "    \n",
    "    Parameters:\n",
    "        Some vector 'ΔW'.\n",
    "        Some Perceptron 'p'.\n",
    "\n",
    "    Returns:\n",
    "        The updated weight vector (W1) of the Perceptron. \n",
    "        \n",
    "        Where W1(updated) =  W1(old) +  ΔW.\n",
    "=#\n",
    "\n",
    "function update_weights(ΔW, p::Perceptron)\n",
    "    \n",
    "    p.W1 = p.W1 + ΔW\n",
    "    \n",
    "end"
   ]
  },
  {
   "cell_type": "code",
   "execution_count": 7,
   "id": "247a14cf",
   "metadata": {},
   "outputs": [
    {
     "data": {
      "text/plain": [
       "back_prop (generic function with 1 method)"
      ]
     },
     "execution_count": 7,
     "metadata": {},
     "output_type": "execute_result"
    }
   ],
   "source": [
    "#= \n",
    "Back propogation through the Perceptron\n",
    "    \n",
    "    1. Calculate the output error of the Perceptron.\n",
    "    2. Calculate the necesarry weight change (ΔW).\n",
    "    3. Update the Perceptron weights (W1) according to the weight change.\n",
    "\n",
    "    Parameters:\n",
    "        Some Perceptron 'p'.\n",
    "        Some label/expected output 'y'.\n",
    "        Some learning rate 'α'.\n",
    "\n",
    "    Returns:\n",
    "        The updated weight vector (W1) of the Perceptron. \n",
    "=#\n",
    "\n",
    "function back_prop(p::Perceptron, y, α)\n",
    "    \n",
    "    error = output_error(y, p)\n",
    "    \n",
    "    ΔW = delta_rule(α, error, p)\n",
    "    \n",
    "    update_weights(ΔW, p)\n",
    "    \n",
    "end"
   ]
  },
  {
   "cell_type": "code",
   "execution_count": 8,
   "id": "c8826b1c",
   "metadata": {},
   "outputs": [
    {
     "data": {
      "text/html": [
       "<div class=\"data-frame\"><p>4 rows × 4 columns</p><table class=\"data-frame\"><thead><tr><th></th><th>x</th><th>y</th><th>and</th><th>or</th></tr><tr><th></th><th title=\"Int64\">Int64</th><th title=\"Int64\">Int64</th><th title=\"Int64\">Int64</th><th title=\"Int64\">Int64</th></tr></thead><tbody><tr><th>1</th><td>0</td><td>0</td><td>0</td><td>0</td></tr><tr><th>2</th><td>0</td><td>1</td><td>0</td><td>1</td></tr><tr><th>3</th><td>1</td><td>0</td><td>0</td><td>1</td></tr><tr><th>4</th><td>1</td><td>1</td><td>1</td><td>1</td></tr></tbody></table></div>"
      ],
      "text/latex": [
       "\\begin{tabular}{r|cccc}\n",
       "\t& x & y & and & or\\\\\n",
       "\t\\hline\n",
       "\t& Int64 & Int64 & Int64 & Int64\\\\\n",
       "\t\\hline\n",
       "\t1 & 0 & 0 & 0 & 0 \\\\\n",
       "\t2 & 0 & 1 & 0 & 1 \\\\\n",
       "\t3 & 1 & 0 & 0 & 1 \\\\\n",
       "\t4 & 1 & 1 & 1 & 1 \\\\\n",
       "\\end{tabular}\n"
      ],
      "text/plain": [
       "\u001b[1m4×4 DataFrame\u001b[0m\n",
       "\u001b[1m Row \u001b[0m│\u001b[1m x     \u001b[0m\u001b[1m y     \u001b[0m\u001b[1m and   \u001b[0m\u001b[1m or    \u001b[0m\n",
       "\u001b[1m     \u001b[0m│\u001b[90m Int64 \u001b[0m\u001b[90m Int64 \u001b[0m\u001b[90m Int64 \u001b[0m\u001b[90m Int64 \u001b[0m\n",
       "─────┼────────────────────────────\n",
       "   1 │     0      0      0      0\n",
       "   2 │     0      1      0      1\n",
       "   3 │     1      0      0      1\n",
       "   4 │     1      1      1      1"
      ]
     },
     "execution_count": 8,
     "metadata": {},
     "output_type": "execute_result"
    }
   ],
   "source": [
    "#= \n",
    "Import Training Dataset\n",
    "=#\n",
    "using DataFrames\n",
    "using CSV\n",
    "\n",
    "train_set = DataFrame(CSV.File(\"trainset.csv\"))\n"
   ]
  },
  {
   "cell_type": "code",
   "execution_count": 23,
   "id": "5aeb2957",
   "metadata": {},
   "outputs": [],
   "source": [
    "#= \n",
    "Training AND-Perceptron\n",
    "=#\n",
    "\n",
    "epoch = 0\n",
    "\n",
    "p_and = Perceptron(2)\n",
    "\n",
    "while epoch < 100\n",
    "    \n",
    "    for i in 1:nrow(train_set)\n",
    "        p_and.X1 = Vector(train_set[i, 1:2])\n",
    "        forward_prop(p_and)\n",
    "        back_prop(p_and, train_set[i, 3], 0.1)\n",
    "    end\n",
    "    global epoch += 1\n",
    "end"
   ]
  },
  {
   "cell_type": "code",
   "execution_count": 24,
   "id": "87ec2ad9",
   "metadata": {},
   "outputs": [],
   "source": [
    "#= \n",
    "Training OR-Perceptron\n",
    "=#\n",
    "\n",
    "epoch = 0\n",
    "\n",
    "p_or = Perceptron(2)\n",
    "\n",
    "while epoch < 100\n",
    "    \n",
    "    for i in 1:nrow(train_set)\n",
    "        p_or.X1 = Vector(train_set[i, 1:2])\n",
    "        forward_prop(p_or)\n",
    "        back_prop(p_or, train_set[i, 4], 0.1)\n",
    "    end\n",
    "    global epoch += 1\n",
    "end"
   ]
  },
  {
   "cell_type": "code",
   "execution_count": 25,
   "id": "c7efb85f",
   "metadata": {},
   "outputs": [
    {
     "data": {
      "text/plain": [
       "output (generic function with 1 method)"
      ]
     },
     "execution_count": 25,
     "metadata": {},
     "output_type": "execute_result"
    }
   ],
   "source": [
    "#= \n",
    "Output Function\n",
    "    \n",
    "    Parameters:\n",
    "        Some Perceptron 'p'.\n",
    "        Some 2-element input vector 'input'.\n",
    "\n",
    "    Returns:\n",
    "        The calculated Perceptron output 'ŷ'.\n",
    "=#\n",
    "\n",
    "function output(p::Perceptron, input::Vector{Int64})\n",
    "    \n",
    "    p.X1 = input\n",
    "    \n",
    "    return forward_prop(p)\n",
    "    \n",
    "end"
   ]
  },
  {
   "cell_type": "code",
   "execution_count": 32,
   "id": "d394e4aa",
   "metadata": {},
   "outputs": [
    {
     "data": {
      "text/plain": [
       "1"
      ]
     },
     "execution_count": 32,
     "metadata": {},
     "output_type": "execute_result"
    }
   ],
   "source": [
    "output(p_and, [1, 1])"
   ]
  },
  {
   "cell_type": "code",
   "execution_count": 36,
   "id": "4774d5a4",
   "metadata": {},
   "outputs": [
    {
     "data": {
      "text/plain": [
       "0"
      ]
     },
     "execution_count": 36,
     "metadata": {},
     "output_type": "execute_result"
    }
   ],
   "source": [
    "output(p_or, [0, 0])"
   ]
  }
 ],
 "metadata": {
  "kernelspec": {
   "display_name": "Julia 1.7.1",
   "language": "julia",
   "name": "julia-1.7"
  },
  "language_info": {
   "file_extension": ".jl",
   "mimetype": "application/julia",
   "name": "julia",
   "version": "1.7.1"
  }
 },
 "nbformat": 4,
 "nbformat_minor": 5
}
